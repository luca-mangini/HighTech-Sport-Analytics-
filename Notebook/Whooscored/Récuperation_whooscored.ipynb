{
 "cells": [
  {
   "cell_type": "markdown",
   "id": "7052d42b",
   "metadata": {},
   "source": [
    "## Importation"
   ]
  },
  {
   "cell_type": "code",
   "execution_count": 1,
   "id": "1381704c",
   "metadata": {},
   "outputs": [],
   "source": [
    "import pandas as pd\n",
    "import matplotlib.pyplot as plt\n",
    "import numpy as np\n",
    "from selenium import webdriver\n",
    "import main\n",
    "import visuals\n",
    "import seaborn as sns"
   ]
  },
  {
   "cell_type": "markdown",
   "id": "34f3932b",
   "metadata": {},
   "source": [
    "## Récuperation des données de matchs"
   ]
  },
  {
   "cell_type": "code",
   "execution_count": 2,
   "id": "147b6566",
   "metadata": {},
   "outputs": [
    {
     "name": "stderr",
     "output_type": "stream",
     "text": [
      "\n",
      "\n",
      "====== WebDriver manager ======\n",
      "Current google-chrome version is 96.0.4664\n",
      "Get LATEST chromedriver version for 96.0.4664 google-chrome\n",
      "Driver [C:\\Users\\lucam\\.wdm\\drivers\\chromedriver\\win32\\96.0.4664.45\\chromedriver.exe] found in cache\n",
      "C:\\Users\\lucam\\AppData\\Local\\Temp/ipykernel_18020/3432293409.py:7: DeprecationWarning: executable_path has been deprecated, please pass in a Service object\n",
      "  driver = webdriver.Chrome(ChromeDriverManager().install())\n"
     ]
    },
    {
     "name": "stdout",
     "output_type": "stream",
     "text": [
      "Region: Europe, League: Champions League, Season: 2021/2022, Match Id: 1592194\n"
     ]
    },
    {
     "name": "stderr",
     "output_type": "stream",
     "text": [
      "C:\\Users\\lucam\\Desktop\\Analyse foot\\HighTech-Sport-Analytics-\\Notebook\\Whooscored\\main.py:462: PerformanceWarning: DataFrame is highly fragmented.  This is usually the result of calling `frame.insert` many times, which has poor performance.  Consider joining all columns at once using pd.concat(axis=1) instead.  To get a de-fragmented frame, use `newframe = frame.copy()`\n",
      "  events_df[event_type] = pd.Series([event_type in row for row in list(events_df['satisfiedEventsTypes'])])\n"
     ]
    }
   ],
   "source": [
    "from selenium import webdriver\n",
    "from webdriver_manager.chrome import ChromeDriverManager\n",
    "\n",
    "\n",
    "\n",
    "if __name__ == \"__main__\":\n",
    "    driver = webdriver.Chrome(ChromeDriverManager().install())\n",
    "    \n",
    "# whoscored match centre url of the required match (Example: Barcelona vs Sevilla)\n",
    "url = \"https://fr.whoscored.com/Matches/1592194/Live/Europe-Champions-League-2021-2022-Chelsea-Juventus\"\n",
    "match_data = main.getMatchData(driver, url, close_window=True)\n",
    "\n",
    "# Match dataframe containing info about the match\n",
    "matches_df = main.createMatchesDF(match_data)\n",
    "\n",
    "# Events dataframe      \n",
    "events_df = main.createEventsDF(match_data)\n",
    "\n",
    "# match Id\n",
    "matchId = match_data['matchId']\n",
    "\n",
    "# Information about respective teams as dictionary\n",
    "home_data = matches_df['home'][matchId]\n",
    "away_data = matches_df['away'][matchId]"
   ]
  },
  {
   "cell_type": "code",
   "execution_count": 4,
   "id": "12028346",
   "metadata": {},
   "outputs": [],
   "source": [
    "events_df = main.addEpvToDataFrame(events_df)"
   ]
  },
  {
   "cell_type": "code",
   "execution_count": 5,
   "id": "c5035e2a",
   "metadata": {},
   "outputs": [],
   "source": [
    "events_df.to_csv('../../CSV/Whooscored/Chelsea_Juventus.csv')"
   ]
  },
  {
   "cell_type": "code",
   "execution_count": null,
   "id": "de173c76",
   "metadata": {},
   "outputs": [],
   "source": []
  }
 ],
 "metadata": {
  "kernelspec": {
   "display_name": "Python 3 (ipykernel)",
   "language": "python",
   "name": "python3"
  },
  "language_info": {
   "codemirror_mode": {
    "name": "ipython",
    "version": 3
   },
   "file_extension": ".py",
   "mimetype": "text/x-python",
   "name": "python",
   "nbconvert_exporter": "python",
   "pygments_lexer": "ipython3",
   "version": "3.9.7"
  }
 },
 "nbformat": 4,
 "nbformat_minor": 5
}
