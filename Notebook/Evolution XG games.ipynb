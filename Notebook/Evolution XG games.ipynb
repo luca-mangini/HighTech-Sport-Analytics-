{
 "cells": [
  {
   "cell_type": "code",
   "execution_count": 1,
   "metadata": {},
   "outputs": [],
   "source": [
    "import requests\n",
    "from bs4 import BeautifulSoup\n",
    "import json\n",
    "import pandas as pd"
   ]
  },
  {
   "cell_type": "code",
   "execution_count": 2,
   "metadata": {},
   "outputs": [
    {
     "name": "stdout",
     "output_type": "stream",
     "text": [
      "Please enter the match id: 17939\n"
     ]
    }
   ],
   "source": [
    "#scrape a single game shots. We will allow users to enter a base url\n",
    "base_url = 'https://understat.com/match/'\n",
    "match = str(input('Please enter the match id: '))\n",
    "url = base_url+match"
   ]
  },
  {
   "cell_type": "code",
   "execution_count": 19,
   "metadata": {},
   "outputs": [],
   "source": [
    "#Use requests to get the webpage and BeautifulSoup to parse the page\n",
    "res = requests.get(url)\n",
    "soup = BeautifulSoup(res.content, 'lxml')\n",
    "scripts = soup.find_all('script')"
   ]
  },
  {
   "cell_type": "code",
   "execution_count": 20,
   "metadata": {},
   "outputs": [],
   "source": [
    "#get only the shotsData\n",
    "strings = scripts[1].string"
   ]
  },
  {
   "cell_type": "code",
   "execution_count": 21,
   "metadata": {},
   "outputs": [],
   "source": [
    "# strip unnecessary symbols and get only JSON data \n",
    "ind_start = strings.index(\"('\")+2 \n",
    "ind_end = strings.index(\"')\") \n",
    "json_data = strings[ind_start:ind_end] \n",
    "json_data = json_data.encode('utf8').decode('unicode_escape')\n",
    "\n",
    "#convert string to json format\n",
    "data = json.loads(json_data)"
   ]
  },
  {
   "cell_type": "code",
   "execution_count": 22,
   "metadata": {},
   "outputs": [],
   "source": [
    "minute = []\n",
    "xG = []\n",
    "result = []\n",
    "team = []\n",
    "data_away = data['a']\n",
    "data_home = data['h']\n",
    "\n",
    "for index in range(len(data_home)):\n",
    "    for key in data_home[index]:\n",
    "        if key == 'minute':\n",
    "            minute.append(data_home[index][key])\n",
    "        if key == 'h_team':\n",
    "            team.append(data_home[index][key])\n",
    "        if key == 'xG':\n",
    "            xG.append(data_home[index][key])\n",
    "        if key == 'result':\n",
    "            result.append(data_home[index][key])\n",
    "\n",
    "for index in range(len(data_away)):\n",
    "    for key in data_away[index]:\n",
    "        if key == 'minute':\n",
    "            minute.append(data_away[index][key])\n",
    "        if key == 'a_team':\n",
    "            team.append(data_away[index][key])\n",
    "        if key == 'xG':\n",
    "            xG.append(data_away[index][key])\n",
    "        if key == 'result':\n",
    "            result.append(data_away[index][key])"
   ]
  },
  {
   "cell_type": "code",
   "execution_count": 23,
   "metadata": {},
   "outputs": [],
   "source": [
    "col_names = ['minute','xG','result','team']\n",
    "df = pd.DataFrame([minute,xG,result,team],index=col_names)\n",
    "df = df.T"
   ]
  },
  {
   "cell_type": "code",
   "execution_count": 24,
   "metadata": {},
   "outputs": [
    {
     "name": "stdout",
     "output_type": "stream",
     "text": [
      "   minute        xG       result                 team\n",
      "0      22  0.053181    SavedShot  Paris Saint Germain\n",
      "1      29  0.082275  MissedShots  Paris Saint Germain\n",
      "2      39  0.309287  MissedShots  Paris Saint Germain\n",
      "3      45  0.051625  MissedShots  Paris Saint Germain\n",
      "4      54  0.066658    SavedShot  Paris Saint Germain\n",
      "5      57  0.019712  BlockedShot  Paris Saint Germain\n",
      "6      58  0.018783    SavedShot  Paris Saint Germain\n",
      "7      59  0.426678  MissedShots  Paris Saint Germain\n",
      "8      66  0.014278  MissedShots  Paris Saint Germain\n",
      "9      68  0.053927  BlockedShot  Paris Saint Germain\n",
      "10     69  0.086228  MissedShots  Paris Saint Germain\n",
      "11     70  0.049238  MissedShots  Paris Saint Germain\n",
      "12     72  0.096118  MissedShots  Paris Saint Germain\n",
      "13     73  0.499429         Goal  Paris Saint Germain\n",
      "14     77  0.059555    SavedShot  Paris Saint Germain\n",
      "15     84  0.328548  MissedShots  Paris Saint Germain\n",
      "16     87  0.094223         Goal  Paris Saint Germain\n",
      "17      0  0.268005    SavedShot                Lille\n",
      "18     13  0.026452  BlockedShot                Lille\n",
      "19     13  0.352697  MissedShots                Lille\n",
      "20     14  0.021833  MissedShots                Lille\n",
      "21     30  0.546987         Goal                Lille\n",
      "22     40  0.071183  BlockedShot                Lille\n",
      "23     46  0.131994    SavedShot                Lille\n",
      "24     46  0.155300  MissedShots                Lille\n",
      "25     56  0.131965  MissedShots                Lille\n",
      "26     71  0.061098  BlockedShot                Lille\n",
      "27     83  0.065838  MissedShots                Lille\n"
     ]
    }
   ],
   "source": [
    "df['xG'] = df['xG'].astype(float)\n",
    "print(df)"
   ]
  },
  {
   "cell_type": "code",
   "execution_count": 25,
   "metadata": {},
   "outputs": [],
   "source": [
    "#now that we have our dataframe set up, we are going to create some lists to plot the different xG values\n",
    "#4 lists - home and away xg and minutes\n",
    "#We start these with zero so our charts will start at 0\n",
    "a_xG = [0]\n",
    "h_xG= [0]\n",
    "home=[data_home[0]['h_team']]\n",
    "a_min = [0]\n",
    "h_min = [0]\n",
    "away=[data_home[0]['a_team']]\n",
    "\n",
    "\n",
    "#this finds our team names from the dataframe. This will only work as long as both teams took a shot\n",
    "hteam = df['team'].iloc[0]\n",
    "ateam = df['team'].iloc[-1]\n",
    "\n",
    "for x in range(len(df['xG'])):\n",
    "    if df['team'][x]==ateam:\n",
    "        a_xG.append(df['xG'][x])\n",
    "        a_min.append(df['minute'][x])\n",
    "        away.append(data_home[0]['a_team'])\n",
    "    if df['team'][x]==hteam:\n",
    "        h_xG.append(df['xG'][x])\n",
    "        h_min.append(df['minute'][x])\n",
    "        home.append(data_home[0]['h_team'])\n",
    "        \n",
    "#this is the function we use to make our xG values be cumulative rather than single shot values\n",
    "#it goes through the list and adds the numbers together\n",
    "def nums_cumulative_sum(nums_list):\n",
    "    return [sum(nums_list[:i+1]) for i in range(len(nums_list))]\n",
    "\n",
    "a_cumulative = nums_cumulative_sum(a_xG)\n",
    "h_cumulative = nums_cumulative_sum(h_xG)\n",
    "\n",
    "#this is used to find the total xG. It just creates a new variable from the last item in the cumulative list\n",
    "alast = round(a_cumulative[-1],2)\n",
    "hlast = round(h_cumulative[-1],2)"
   ]
  },
  {
   "cell_type": "code",
   "execution_count": 26,
   "metadata": {},
   "outputs": [
    {
     "name": "stdout",
     "output_type": "stream",
     "text": [
      "[0, '22', '29', '39', '45', '54', '57', '58', '59', '66', '68', '69', '70', '72', '73', '77', '84', '87']\n",
      "[0, '0', '13', '13', '14', '30', '40', '46', '46', '56', '71', '83']\n"
     ]
    },
    {
     "data": {
      "text/plain": [
       "[<matplotlib.lines.Line2D at 0x271589a2fc8>]"
      ]
     },
     "execution_count": 26,
     "metadata": {},
     "output_type": "execute_result"
    },
    {
     "data": {
      "image/png": "[encoded data removed]",
      "text/plain": [
       "<Figure size 720x360 with 1 Axes>"
      ]
     },
     "metadata": {},
     "output_type": "display_data"
    }
   ],
   "source": [
    "import matplotlib as mpl\n",
    "import matplotlib.pyplot as plt\n",
    "\n",
    "fig, ax = plt.subplots(figsize = (10,5))\n",
    "fig.set_facecolor('#3d4849')\n",
    "ax.patch.set_facecolor('#3d4849')\n",
    "\n",
    "#set up our base layer\n",
    "mpl.rcParams['xtick.color'] = 'white'\n",
    "mpl.rcParams['ytick.color'] = 'white'\n",
    "\n",
    "ax.grid(ls='dotted',lw=.5,color='lightgrey',axis='y',zorder=1)\n",
    "spines = ['top','bottom','left','right']\n",
    "for x in spines:\n",
    "    if x in spines:\n",
    "        ax.spines[x].set_visible(False)\n",
    "        \n",
    "plt.xticks([0,15,30,45,60,75,90])\n",
    "plt.xlabel('Minute',fontname='Andale Mono',color='white',fontsize=16)\n",
    "plt.ylabel('xG',fontname='Andale Mono',color='white',fontsize=16)\n",
    "print(h_min)\n",
    "print(a_min)\n",
    "#plot the step graphs\n",
    "ax.step(x=a_min,y=a_cumulative,color='#d3d3d3',label=ateam,linewidth=5,where='post')\n",
    "ax.step(x=h_min,y=h_cumulative,color='#fd3607',label=ateam,linewidth=5,where='post')"
   ]
  },
  {
   "cell_type": "code",
   "execution_count": 27,
   "metadata": {},
   "outputs": [],
   "source": [
    "xG = a_cumulative + h_cumulative\n",
    "minute = a_min + h_min\n",
    "teams = away + home"
   ]
  },
  {
   "cell_type": "code",
   "execution_count": 28,
   "metadata": {},
   "outputs": [
    {
     "name": "stdout",
     "output_type": "stream",
     "text": [
      "   minute        xG                 team\n",
      "0       0         0                Lille\n",
      "1       0  0.268005                Lille\n",
      "2      13  0.294457                Lille\n",
      "3      13  0.647154                Lille\n",
      "4      14  0.668987                Lille\n",
      "5      30  1.215975                Lille\n",
      "6      40  1.287158                Lille\n",
      "7      46  1.419152                Lille\n",
      "8      46  1.574452                Lille\n",
      "9      56  1.706418                Lille\n",
      "10     71  1.767515                Lille\n",
      "11     83  1.833353                Lille\n",
      "12      0         0  Paris Saint Germain\n",
      "13     22  0.053181  Paris Saint Germain\n",
      "14     29  0.135457  Paris Saint Germain\n",
      "15     39  0.444743  Paris Saint Germain\n",
      "16     45  0.496368  Paris Saint Germain\n",
      "17     54  0.563026  Paris Saint Germain\n",
      "18     57  0.582739  Paris Saint Germain\n",
      "19     58  0.601522  Paris Saint Germain\n",
      "20     59    1.0282  Paris Saint Germain\n",
      "21     66  1.042478  Paris Saint Germain\n",
      "22     68  1.096406  Paris Saint Germain\n",
      "23     69  1.182633  Paris Saint Germain\n",
      "24     70  1.231872  Paris Saint Germain\n",
      "25     72   1.32799  Paris Saint Germain\n",
      "26     73  1.827418  Paris Saint Germain\n",
      "27     77  1.886974  Paris Saint Germain\n",
      "28     84  2.215521  Paris Saint Germain\n",
      "29     87  2.309745  Paris Saint Germain\n"
     ]
    }
   ],
   "source": [
    "col_names = ['minute','xG','team']\n",
    "df = pd.DataFrame([minute,xG,teams],index=col_names)\n",
    "df = df.T\n",
    "print(df)"
   ]
  },
  {
   "cell_type": "code",
   "execution_count": 35,
   "metadata": {},
   "outputs": [
    {
     "name": "stdout",
     "output_type": "stream",
     "text": [
      "2022\n"
     ]
    },
    {
     "ename": "TypeError",
     "evalue": "can only concatenate str (not \"int\") to str",
     "output_type": "error",
     "traceback": [
      "\u001b[1;31m---------------------------------------------------------------------------\u001b[0m",
      "\u001b[1;31mTypeError\u001b[0m                                 Traceback (most recent call last)",
      "\u001b[1;32m<ipython-input-35-b80380b8e4ee>\u001b[0m in \u001b[0;36m<module>\u001b[1;34m\u001b[0m\n\u001b[0;32m      1\u001b[0m \u001b[0mprint\u001b[0m\u001b[1;33m(\u001b[0m\u001b[0mstr\u001b[0m\u001b[1;33m(\u001b[0m\u001b[0mint\u001b[0m\u001b[1;33m(\u001b[0m\u001b[0mdata_home\u001b[0m\u001b[1;33m[\u001b[0m\u001b[1;36m0\u001b[0m\u001b[1;33m]\u001b[0m\u001b[1;33m[\u001b[0m\u001b[1;34m'season'\u001b[0m\u001b[1;33m]\u001b[0m\u001b[1;33m)\u001b[0m\u001b[1;33m+\u001b[0m\u001b[1;36m1\u001b[0m\u001b[1;33m)\u001b[0m\u001b[1;33m)\u001b[0m\u001b[1;33m\u001b[0m\u001b[1;33m\u001b[0m\u001b[0m\n\u001b[1;32m----> 2\u001b[1;33m \u001b[0mdf\u001b[0m\u001b[1;33m.\u001b[0m\u001b[0mto_csv\u001b[0m\u001b[1;33m(\u001b[0m\u001b[1;34mr'../CSV/xG matchs/'\u001b[0m\u001b[1;33m+\u001b[0m\u001b[0mstr\u001b[0m\u001b[1;33m(\u001b[0m\u001b[0mdata_home\u001b[0m\u001b[1;33m[\u001b[0m\u001b[1;36m0\u001b[0m\u001b[1;33m]\u001b[0m\u001b[1;33m[\u001b[0m\u001b[1;34m'season'\u001b[0m\u001b[1;33m]\u001b[0m\u001b[1;33m)\u001b[0m\u001b[1;33m+\u001b[0m\u001b[1;34m'-'\u001b[0m\u001b[1;33m+\u001b[0m\u001b[0mstr\u001b[0m\u001b[1;33m(\u001b[0m\u001b[0mint\u001b[0m\u001b[1;33m(\u001b[0m\u001b[0mdata_home\u001b[0m\u001b[1;33m[\u001b[0m\u001b[1;36m0\u001b[0m\u001b[1;33m]\u001b[0m\u001b[1;33m[\u001b[0m\u001b[1;34m'season'\u001b[0m\u001b[1;33m]\u001b[0m\u001b[1;33m+\u001b[0m\u001b[1;36m1\u001b[0m\u001b[1;33m)\u001b[0m\u001b[1;33m)\u001b[0m\u001b[1;33m+\u001b[0m\u001b[1;34m'/xG_'\u001b[0m\u001b[1;33m+\u001b[0m\u001b[0mstr\u001b[0m\u001b[1;33m(\u001b[0m\u001b[0mdata_home\u001b[0m\u001b[1;33m[\u001b[0m\u001b[1;36m0\u001b[0m\u001b[1;33m]\u001b[0m\u001b[1;33m[\u001b[0m\u001b[1;34m'h_team'\u001b[0m\u001b[1;33m]\u001b[0m\u001b[1;33m)\u001b[0m\u001b[1;33m+\u001b[0m\u001b[1;34m'-'\u001b[0m\u001b[1;33m+\u001b[0m\u001b[0mstr\u001b[0m\u001b[1;33m(\u001b[0m\u001b[0mdata_home\u001b[0m\u001b[1;33m[\u001b[0m\u001b[1;36m0\u001b[0m\u001b[1;33m]\u001b[0m\u001b[1;33m[\u001b[0m\u001b[1;34m'a_team'\u001b[0m\u001b[1;33m]\u001b[0m\u001b[1;33m)\u001b[0m\u001b[1;33m+\u001b[0m\u001b[1;34m'.csv'\u001b[0m\u001b[1;33m,\u001b[0m \u001b[0mindex\u001b[0m \u001b[1;33m=\u001b[0m \u001b[1;32mFalse\u001b[0m\u001b[1;33m)\u001b[0m\u001b[1;33m\u001b[0m\u001b[1;33m\u001b[0m\u001b[0m\n\u001b[0m",
      "\u001b[1;31mTypeError\u001b[0m: can only concatenate str (not \"int\") to str"
     ]
    }
   ],
   "source": [
    "print(str(int(data_home[0]['season'])+1))\n",
    "df.to_csv(r'../CSV/xG matchs/'+str(data_home[0]['season'])+'-'+str(int(data_home[0]['season']+1))+'/xG_'+str(data_home[0]['h_team'])+'-'+str(data_home[0]['a_team'])+'.csv', index = False)"
   ]
  },
  {
   "cell_type": "code",
   "execution_count": 29,
   "metadata": {},
   "outputs": [
    {
     "name": "stdout",
     "output_type": "stream",
     "text": [
      "{'h': [{'id': '439322', 'minute': '22', 'result': 'SavedShot', 'X': '0.8090000152587891', 'Y': '0.49700000762939456', 'xG': '0.053181473165750504', 'player': 'Ángel Di María', 'h_a': 'h', 'player_id': '3553', 'situation': 'OpenPlay', 'season': '2021', 'shotType': 'RightFoot', 'match_id': '17939', 'h_team': 'Paris Saint Germain', 'a_team': 'Lille', 'h_goals': '2', 'a_goals': '1', 'date': '2021-10-29 19:00:00', 'player_assisted': 'Lionel Messi', 'lastAction': 'Pass'}, {'id': '439323', 'minute': '29', 'result': 'MissedShots', 'X': '0.895', 'Y': '0.595999984741211', 'xG': '0.08227503299713135', 'player': 'Lionel Messi', 'h_a': 'h', 'player_id': '2097', 'situation': 'OpenPlay', 'season': '2021', 'shotType': 'LeftFoot', 'match_id': '17939', 'h_team': 'Paris Saint Germain', 'a_team': 'Lille', 'h_goals': '2', 'a_goals': '1', 'date': '2021-10-29 19:00:00', 'player_assisted': 'Ángel Di María', 'lastAction': 'Chipped'}, {'id': '439325', 'minute': '39', 'result': 'MissedShots', 'X': '0.9690000152587891', 'Y': '0.3729999923706055', 'xG': '0.3092869520187378', 'player': 'Ángel Di María', 'h_a': 'h', 'player_id': '3553', 'situation': 'OpenPlay', 'season': '2021', 'shotType': 'LeftFoot', 'match_id': '17939', 'h_team': 'Paris Saint Germain', 'a_team': 'Lille', 'h_goals': '2', 'a_goals': '1', 'date': '2021-10-29 19:00:00', 'player_assisted': 'Georginio Wijnaldum', 'lastAction': 'Pass'}, {'id': '439327', 'minute': '45', 'result': 'MissedShots', 'X': '0.75', 'Y': '0.34', 'xG': '0.05162494257092476', 'player': 'Lionel Messi', 'h_a': 'h', 'player_id': '2097', 'situation': 'DirectFreekick', 'season': '2021', 'shotType': 'LeftFoot', 'match_id': '17939', 'h_team': 'Paris Saint Germain', 'a_team': 'Lille', 'h_goals': '2', 'a_goals': '1', 'date': '2021-10-29 19:00:00', 'player_assisted': None, 'lastAction': 'Standard'}, {'id': '439330', 'minute': '54', 'result': 'SavedShot', 'X': '0.925', 'Y': '0.655', 'xG': '0.06665794551372528', 'player': 'Neymar', 'h_a': 'h', 'player_id': '2099', 'situation': 'OpenPlay', 'season': '2021', 'shotType': 'RightFoot', 'match_id': '17939', 'h_team': 'Paris Saint Germain', 'a_team': 'Lille', 'h_goals': '2', 'a_goals': '1', 'date': '2021-10-29 19:00:00', 'player_assisted': 'Ángel Di María', 'lastAction': 'Pass'}, {'id': '439332', 'minute': '57', 'result': 'BlockedShot', 'X': '0.7859999847412109', 'Y': '0.2989999961853027', 'xG': '0.019712166860699654', 'player': 'Idrissa Gueye', 'h_a': 'h', 'player_id': '668', 'situation': 'OpenPlay', 'season': '2021', 'shotType': 'RightFoot', 'match_id': '17939', 'h_team': 'Paris Saint Germain', 'a_team': 'Lille', 'h_goals': '2', 'a_goals': '1', 'date': '2021-10-29 19:00:00', 'player_assisted': 'Mauro Icardi', 'lastAction': 'Pass'}, {'id': '439333', 'minute': '58', 'result': 'SavedShot', 'X': '0.749000015258789', 'Y': '0.649000015258789', 'xG': '0.018783319741487503', 'player': 'Ángel Di María', 'h_a': 'h', 'player_id': '3553', 'situation': 'OpenPlay', 'season': '2021', 'shotType': 'LeftFoot', 'match_id': '17939', 'h_team': 'Paris Saint Germain', 'a_team': 'Lille', 'h_goals': '2', 'a_goals': '1', 'date': '2021-10-29 19:00:00', 'player_assisted': 'Idrissa Gueye', 'lastAction': 'Pass'}, {'id': '439334', 'minute': '59', 'result': 'MissedShots', 'X': '0.955999984741211', 'Y': '0.5', 'xG': '0.426677942276001', 'player': 'Presnel Kimpembe', 'h_a': 'h', 'player_id': '3599', 'situation': 'FromCorner', 'season': '2021', 'shotType': 'Head', 'match_id': '17939', 'h_team': 'Paris Saint Germain', 'a_team': 'Lille', 'h_goals': '2', 'a_goals': '1', 'date': '2021-10-29 19:00:00', 'player_assisted': 'Ángel Di María', 'lastAction': 'Aerial'}, {'id': '439335', 'minute': '66', 'result': 'MissedShots', 'X': '0.94', 'Y': '0.6179999923706054', 'xG': '0.01427848357707262', 'player': 'Danilo Pereira', 'h_a': 'h', 'player_id': '9060', 'situation': 'FromCorner', 'season': '2021', 'shotType': 'Head', 'match_id': '17939', 'h_team': 'Paris Saint Germain', 'a_team': 'Lille', 'h_goals': '2', 'a_goals': '1', 'date': '2021-10-29 19:00:00', 'player_assisted': 'Neymar', 'lastAction': 'Aerial'}, {'id': '439336', 'minute': '68', 'result': 'BlockedShot', 'X': '0.85', 'Y': '0.61', 'xG': '0.05392749235033989', 'player': 'Neymar', 'h_a': 'h', 'player_id': '2099', 'situation': 'OpenPlay', 'season': '2021', 'shotType': 'RightFoot', 'match_id': '17939', 'h_team': 'Paris Saint Germain', 'a_team': 'Lille', 'h_goals': '2', 'a_goals': '1', 'date': '2021-10-29 19:00:00', 'player_assisted': 'Georginio Wijnaldum', 'lastAction': 'TakeOn'}, {'id': '439337', 'minute': '69', 'result': 'MissedShots', 'X': '0.9530000305175781', 'Y': '0.49700000762939456', 'xG': '0.08622758090496063', 'player': 'Marquinhos', 'h_a': 'h', 'player_id': '3297', 'situation': 'FromCorner', 'season': '2021', 'shotType': 'Head', 'match_id': '17939', 'h_team': 'Paris Saint Germain', 'a_team': 'Lille', 'h_goals': '2', 'a_goals': '1', 'date': '2021-10-29 19:00:00', 'player_assisted': 'Neymar', 'lastAction': 'Aerial'}, {'id': '439338', 'minute': '70', 'result': 'MissedShots', 'X': '0.8009999847412109', 'Y': '0.46799999237060547', 'xG': '0.04923824593424797', 'player': 'Ángel Di María', 'h_a': 'h', 'player_id': '3553', 'situation': 'OpenPlay', 'season': '2021', 'shotType': 'LeftFoot', 'match_id': '17939', 'h_team': 'Paris Saint Germain', 'a_team': 'Lille', 'h_goals': '2', 'a_goals': '1', 'date': '2021-10-29 19:00:00', 'player_assisted': 'Mauro Icardi', 'lastAction': 'Pass'}, {'id': '439340', 'minute': '72', 'result': 'MissedShots', 'X': '0.909000015258789', 'Y': '0.5259999847412109', 'xG': '0.09611796587705612', 'player': 'Mauro Icardi', 'h_a': 'h', 'player_id': '1513', 'situation': 'OpenPlay', 'season': '2021', 'shotType': 'Head', 'match_id': '17939', 'h_team': 'Paris Saint Germain', 'a_team': 'Lille', 'h_goals': '2', 'a_goals': '1', 'date': '2021-10-29 19:00:00', 'player_assisted': 'Ángel Di María', 'lastAction': 'Cross'}, {'id': '439341', 'minute': '73', 'result': 'Goal', 'X': '0.9430000305175781', 'Y': '0.4759999847412109', 'xG': '0.4994288384914398', 'player': 'Marquinhos', 'h_a': 'h', 'player_id': '3297', 'situation': 'OpenPlay', 'season': '2021', 'shotType': 'RightFoot', 'match_id': '17939', 'h_team': 'Paris Saint Germain', 'a_team': 'Lille', 'h_goals': '2', 'a_goals': '1', 'date': '2021-10-29 19:00:00', 'player_assisted': 'Ángel Di María', 'lastAction': 'Chipped'}, {'id': '439342', 'minute': '77', 'result': 'SavedShot', 'X': '0.855999984741211', 'Y': '0.66', 'xG': '0.059555262327194214', 'player': 'Ángel Di María', 'h_a': 'h', 'player_id': '3553', 'situation': 'OpenPlay', 'season': '2021', 'shotType': 'RightFoot', 'match_id': '17939', 'h_team': 'Paris Saint Germain', 'a_team': 'Lille', 'h_goals': '2', 'a_goals': '1', 'date': '2021-10-29 19:00:00', 'player_assisted': 'Neymar', 'lastAction': 'Pass'}, {'id': '439344', 'minute': '84', 'result': 'MissedShots', 'X': '0.875999984741211', 'Y': '0.39599998474121095', 'xG': '0.32854756712913513', 'player': 'Mauro Icardi', 'h_a': 'h', 'player_id': '1513', 'situation': 'OpenPlay', 'season': '2021', 'shotType': 'RightFoot', 'match_id': '17939', 'h_team': 'Paris Saint Germain', 'a_team': 'Lille', 'h_goals': '2', 'a_goals': '1', 'date': '2021-10-29 19:00:00', 'player_assisted': 'Neymar', 'lastAction': 'Throughball'}, {'id': '439345', 'minute': '87', 'result': 'Goal', 'X': '0.8540000152587891', 'Y': '0.425', 'xG': '0.09422346949577332', 'player': 'Ángel Di María', 'h_a': 'h', 'player_id': '3553', 'situation': 'OpenPlay', 'season': '2021', 'shotType': 'LeftFoot', 'match_id': '17939', 'h_team': 'Paris Saint Germain', 'a_team': 'Lille', 'h_goals': '2', 'a_goals': '1', 'date': '2021-10-29 19:00:00', 'player_assisted': 'Neymar', 'lastAction': 'Pass'}], 'a': [{'id': '439318', 'minute': '0', 'result': 'SavedShot', 'X': '0.879000015258789', 'Y': '0.6719999694824219', 'xG': '0.26800522208213806', 'player': 'Burak Yilmaz', 'h_a': 'a', 'player_id': '8637', 'situation': 'OpenPlay', 'season': '2021', 'shotType': 'LeftFoot', 'match_id': '17939', 'h_team': 'Paris Saint Germain', 'a_team': 'Lille', 'h_goals': '2', 'a_goals': '1', 'date': '2021-10-29 19:00:00', 'player_assisted': 'Jonathan Ikone', 'lastAction': 'Pass'}, {'id': '439319', 'minute': '13', 'result': 'BlockedShot', 'X': '0.79', 'Y': '0.5670000076293945', 'xG': '0.02645152062177658', 'player': 'Xeka', 'h_a': 'a', 'player_id': '5704', 'situation': 'FromCorner', 'season': '2021', 'shotType': 'RightFoot', 'match_id': '17939', 'h_team': 'Paris Saint Germain', 'a_team': 'Lille', 'h_goals': '2', 'a_goals': '1', 'date': '2021-10-29 19:00:00', 'player_assisted': 'Tiago Djaló', 'lastAction': 'BallTouch'}, {'id': '439320', 'minute': '13', 'result': 'MissedShots', 'X': '0.865', 'Y': '0.48900001525878906', 'xG': '0.35269731283187866', 'player': 'Jonathan Ikone', 'h_a': 'a', 'player_id': '5661', 'situation': 'OpenPlay', 'season': '2021', 'shotType': 'LeftFoot', 'match_id': '17939', 'h_team': 'Paris Saint Germain', 'a_team': 'Lille', 'h_goals': '2', 'a_goals': '1', 'date': '2021-10-29 19:00:00', 'player_assisted': 'Burak Yilmaz', 'lastAction': 'Pass'}, {'id': '439321', 'minute': '14', 'result': 'MissedShots', 'X': '0.740999984741211', 'Y': '0.5770000076293945', 'xG': '0.021833162754774094', 'player': 'Jonathan Christian David', 'h_a': 'a', 'player_id': '8636', 'situation': 'OpenPlay', 'season': '2021', 'shotType': 'LeftFoot', 'match_id': '17939', 'h_team': 'Paris Saint Germain', 'a_team': 'Lille', 'h_goals': '2', 'a_goals': '1', 'date': '2021-10-29 19:00:00', 'player_assisted': 'Renato Sanches', 'lastAction': 'Pass'}, {'id': '439324', 'minute': '30', 'result': 'Goal', 'X': '0.965', 'Y': '0.5720000076293945', 'xG': '0.5469874143600464', 'player': 'Jonathan Christian David', 'h_a': 'a', 'player_id': '8636', 'situation': 'OpenPlay', 'season': '2021', 'shotType': 'RightFoot', 'match_id': '17939', 'h_team': 'Paris Saint Germain', 'a_team': 'Lille', 'h_goals': '2', 'a_goals': '1', 'date': '2021-10-29 19:00:00', 'player_assisted': 'Burak Yilmaz', 'lastAction': 'Pass'}, {'id': '439326', 'minute': '40', 'result': 'BlockedShot', 'X': '0.8130000305175781', 'Y': '0.47', 'xG': '0.07118319720029831', 'player': 'Jonathan Ikone', 'h_a': 'a', 'player_id': '5661', 'situation': 'OpenPlay', 'season': '2021', 'shotType': 'LeftFoot', 'match_id': '17939', 'h_team': 'Paris Saint Germain', 'a_team': 'Lille', 'h_goals': '2', 'a_goals': '1', 'date': '2021-10-29 19:00:00', 'player_assisted': 'Xeka', 'lastAction': 'BallTouch'}, {'id': '439328', 'minute': '46', 'result': 'SavedShot', 'X': '0.9369999694824219', 'Y': '0.3629999923706055', 'xG': '0.1319940686225891', 'player': 'Jonathan Christian David', 'h_a': 'a', 'player_id': '8636', 'situation': 'OpenPlay', 'season': '2021', 'shotType': 'RightFoot', 'match_id': '17939', 'h_team': 'Paris Saint Germain', 'a_team': 'Lille', 'h_goals': '2', 'a_goals': '1', 'date': '2021-10-29 19:00:00', 'player_assisted': 'Jonathan Ikone', 'lastAction': 'Throughball'}, {'id': '439329', 'minute': '46', 'result': 'MissedShots', 'X': '0.9540000152587891', 'Y': '0.49599998474121093', 'xG': '0.15530025959014893', 'player': 'Burak Yilmaz', 'h_a': 'a', 'player_id': '8637', 'situation': 'OpenPlay', 'season': '2021', 'shotType': 'RightFoot', 'match_id': '17939', 'h_team': 'Paris Saint Germain', 'a_team': 'Lille', 'h_goals': '2', 'a_goals': '1', 'date': '2021-10-29 19:00:00', 'player_assisted': 'Jonathan Christian David', 'lastAction': 'Pass'}, {'id': '439331', 'minute': '56', 'result': 'MissedShots', 'X': '0.8859999847412109', 'Y': '0.5129999923706055', 'xG': '0.13196544349193573', 'player': 'Jonathan Christian David', 'h_a': 'a', 'player_id': '8636', 'situation': 'OpenPlay', 'season': '2021', 'shotType': 'LeftFoot', 'match_id': '17939', 'h_team': 'Paris Saint Germain', 'a_team': 'Lille', 'h_goals': '2', 'a_goals': '1', 'date': '2021-10-29 19:00:00', 'player_assisted': 'Renato Sanches', 'lastAction': 'Pass'}, {'id': '439339', 'minute': '71', 'result': 'BlockedShot', 'X': '0.919000015258789', 'Y': '0.725', 'xG': '0.06109758839011192', 'player': 'Renato Sanches', 'h_a': 'a', 'player_id': '5228', 'situation': 'OpenPlay', 'season': '2021', 'shotType': 'RightFoot', 'match_id': '17939', 'h_team': 'Paris Saint Germain', 'a_team': 'Lille', 'h_goals': '2', 'a_goals': '1', 'date': '2021-10-29 19:00:00', 'player_assisted': 'Reinildo', 'lastAction': 'Pass'}, {'id': '439343', 'minute': '83', 'result': 'MissedShots', 'X': '0.8869999694824219', 'Y': '0.29200000762939454', 'xG': '0.06583802402019501', 'player': 'Timothy Weah', 'h_a': 'a', 'player_id': '6601', 'situation': 'OpenPlay', 'season': '2021', 'shotType': 'RightFoot', 'match_id': '17939', 'h_team': 'Paris Saint Germain', 'a_team': 'Lille', 'h_goals': '2', 'a_goals': '1', 'date': '2021-10-29 19:00:00', 'player_assisted': 'Renato Sanches', 'lastAction': 'Pass'}]}\n"
     ]
    }
   ],
   "source": [
    "print(data)"
   ]
  },
  {
   "cell_type": "code",
   "execution_count": null,
   "metadata": {},
   "outputs": [],
   "source": []
  }
 ],
 "metadata": {
  "kernelspec": {
   "display_name": "Python 3",
   "language": "python",
   "name": "python3"
  },
  "language_info": {
   "codemirror_mode": {
    "name": "ipython",
    "version": 3
   },
   "file_extension": ".py",
   "mimetype": "text/x-python",
   "name": "python",
   "nbconvert_exporter": "python",
   "pygments_lexer": "ipython3",
   "version": "3.7.6"
  }
 },
 "nbformat": 4,
 "nbformat_minor": 4
}
