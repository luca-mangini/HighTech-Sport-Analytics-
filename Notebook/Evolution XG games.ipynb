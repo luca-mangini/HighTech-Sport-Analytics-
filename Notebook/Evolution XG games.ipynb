{
 "cells": [
  {
   "cell_type": "code",
   "execution_count": 37,
   "metadata": {},
   "outputs": [],
   "source": [
    "import requests\n",
    "from bs4 import BeautifulSoup\n",
    "import json\n",
    "import pandas as pd"
   ]
  },
  {
   "cell_type": "code",
   "execution_count": 38,
   "metadata": {},
   "outputs": [
    {
     "name": "stdout",
     "output_type": "stream",
     "text": [
      "Please enter the match id: 17940\n"
     ]
    }
   ],
   "source": [
    "#scrape a single game shots. We will allow users to enter a base url\n",
    "base_url = 'https://understat.com/match/'\n",
    "match = str(input('Please enter the match id: '))\n",
    "url = base_url+match"
   ]
  },
  {
   "cell_type": "code",
   "execution_count": 39,
   "metadata": {},
   "outputs": [],
   "source": [
    "#Use requests to get the webpage and BeautifulSoup to parse the page\n",
    "res = requests.get(url)\n",
    "soup = BeautifulSoup(res.content, 'lxml')\n",
    "scripts = soup.find_all('script')"
   ]
  },
  {
   "cell_type": "code",
   "execution_count": 40,
   "metadata": {},
   "outputs": [],
   "source": [
    "#get only the shotsData\n",
    "strings = scripts[1].string"
   ]
  },
  {
   "cell_type": "code",
   "execution_count": 41,
   "metadata": {},
   "outputs": [],
   "source": [
    "# strip unnecessary symbols and get only JSON data \n",
    "ind_start = strings.index(\"('\")+2 \n",
    "ind_end = strings.index(\"')\") \n",
    "json_data = strings[ind_start:ind_end] \n",
    "json_data = json_data.encode('utf8').decode('unicode_escape')\n",
    "\n",
    "#convert string to json format\n",
    "data = json.loads(json_data)"
   ]
  },
  {
   "cell_type": "code",
   "execution_count": 42,
   "metadata": {},
   "outputs": [],
   "source": [
    "minute = []\n",
    "xG = []\n",
    "result = []\n",
    "team = []\n",
    "data_away = data['a']\n",
    "data_home = data['h']\n",
    "\n",
    "for index in range(len(data_home)):\n",
    "    for key in data_home[index]:\n",
    "        if key == 'minute':\n",
    "            minute.append(data_home[index][key])\n",
    "        if key == 'h_team':\n",
    "            team.append(data_home[index][key])\n",
    "        if key == 'xG':\n",
    "            xG.append(data_home[index][key])\n",
    "        if key == 'result':\n",
    "            result.append(data_home[index][key])\n",
    "\n",
    "for index in range(len(data_away)):\n",
    "    for key in data_away[index]:\n",
    "        if key == 'minute':\n",
    "            minute.append(data_away[index][key])\n",
    "        if key == 'a_team':\n",
    "            team.append(data_away[index][key])\n",
    "        if key == 'xG':\n",
    "            xG.append(data_away[index][key])\n",
    "        if key == 'result':\n",
    "            result.append(data_away[index][key])"
   ]
  },
  {
   "cell_type": "code",
   "execution_count": 43,
   "metadata": {},
   "outputs": [],
   "source": [
    "col_names = ['minute','xG','result','team']\n",
    "df = pd.DataFrame([minute,xG,result,team],index=col_names)\n",
    "df = df.T"
   ]
  },
  {
   "cell_type": "code",
   "execution_count": 44,
   "metadata": {},
   "outputs": [
    {
     "name": "stdout",
     "output_type": "stream",
     "text": [
      "   minute        xG       result        team\n",
      "0       5  0.016727  MissedShots  Strasbourg\n",
      "1      18  0.049531  MissedShots  Strasbourg\n",
      "2      22  0.028703  MissedShots  Strasbourg\n",
      "3      27  0.365609         Goal  Strasbourg\n",
      "4      32  0.139794    SavedShot  Strasbourg\n",
      "5      35  0.036602  MissedShots  Strasbourg\n",
      "6      38  0.283086    SavedShot  Strasbourg\n",
      "7      38  0.897973         Goal  Strasbourg\n",
      "8      40  0.020444  MissedShots  Strasbourg\n",
      "9      46  0.044501         Goal  Strasbourg\n",
      "10     47  0.023099  BlockedShot  Strasbourg\n",
      "11     59  0.422500  MissedShots  Strasbourg\n",
      "12     63  0.970954         Goal  Strasbourg\n",
      "13     76  0.023818  MissedShots  Strasbourg\n",
      "14     78  0.025143  BlockedShot  Strasbourg\n",
      "15     14  0.115151  MissedShots     Lorient\n",
      "16     16  0.431877  MissedShots     Lorient\n",
      "17     21  0.052286  MissedShots     Lorient\n",
      "18     57  0.020137  MissedShots     Lorient\n",
      "19     71  0.046753  BlockedShot     Lorient\n"
     ]
    }
   ],
   "source": [
    "df['xG'] = df['xG'].astype(float)\n",
    "print(df)"
   ]
  },
  {
   "cell_type": "code",
   "execution_count": 45,
   "metadata": {},
   "outputs": [],
   "source": [
    "#now that we have our dataframe set up, we are going to create some lists to plot the different xG values\n",
    "#4 lists - home and away xg and minutes\n",
    "#We start these with zero so our charts will start at 0\n",
    "a_xG = [0]\n",
    "h_xG= [0]\n",
    "home=[data_home[0]['h_team']]\n",
    "a_min = [0]\n",
    "h_min = [0]\n",
    "away=[data_home[0]['a_team']]\n",
    "\n",
    "\n",
    "#this finds our team names from the dataframe. This will only work as long as both teams took a shot\n",
    "hteam = df['team'].iloc[0]\n",
    "ateam = df['team'].iloc[-1]\n",
    "\n",
    "for x in range(len(df['xG'])):\n",
    "    if df['team'][x]==ateam:\n",
    "        a_xG.append(df['xG'][x])\n",
    "        a_min.append(df['minute'][x])\n",
    "        away.append(data_home[0]['a_team'])\n",
    "    if df['team'][x]==hteam:\n",
    "        h_xG.append(df['xG'][x])\n",
    "        h_min.append(df['minute'][x])\n",
    "        home.append(data_home[0]['h_team'])\n",
    "        \n",
    "#this is the function we use to make our xG values be cumulative rather than single shot values\n",
    "#it goes through the list and adds the numbers together\n",
    "def nums_cumulative_sum(nums_list):\n",
    "    return [sum(nums_list[:i+1]) for i in range(len(nums_list))]\n",
    "\n",
    "a_cumulative = nums_cumulative_sum(a_xG)\n",
    "h_cumulative = nums_cumulative_sum(h_xG)\n",
    "\n",
    "#this is used to find the total xG. It just creates a new variable from the last item in the cumulative list\n",
    "alast = round(a_cumulative[-1],2)\n",
    "hlast = round(h_cumulative[-1],2)"
   ]
  },
  {
   "cell_type": "code",
   "execution_count": 46,
   "metadata": {},
   "outputs": [
    {
     "name": "stdout",
     "output_type": "stream",
     "text": [
      "[0, '5', '18', '22', '27', '32', '35', '38', '38', '40', '46', '47', '59', '63', '76', '78']\n",
      "[0, '14', '16', '21', '57', '71']\n"
     ]
    },
    {
     "data": {
      "text/plain": [
       "[<matplotlib.lines.Line2D at 0x27159ae8488>]"
      ]
     },
     "execution_count": 46,
     "metadata": {},
     "output_type": "execute_result"
    },
    {
     "data": {
      "image/png": "[encoded data removed]",
      "text/plain": [
       "<Figure size 720x360 with 1 Axes>"
      ]
     },
     "metadata": {},
     "output_type": "display_data"
    }
   ],
   "source": [
    "import matplotlib as mpl\n",
    "import matplotlib.pyplot as plt\n",
    "\n",
    "fig, ax = plt.subplots(figsize = (10,5))\n",
    "fig.set_facecolor('#3d4849')\n",
    "ax.patch.set_facecolor('#3d4849')\n",
    "\n",
    "#set up our base layer\n",
    "mpl.rcParams['xtick.color'] = 'white'\n",
    "mpl.rcParams['ytick.color'] = 'white'\n",
    "\n",
    "ax.grid(ls='dotted',lw=.5,color='lightgrey',axis='y',zorder=1)\n",
    "spines = ['top','bottom','left','right']\n",
    "for x in spines:\n",
    "    if x in spines:\n",
    "        ax.spines[x].set_visible(False)\n",
    "        \n",
    "plt.xticks([0,15,30,45,60,75,90])\n",
    "plt.xlabel('Minute',fontname='Andale Mono',color='white',fontsize=16)\n",
    "plt.ylabel('xG',fontname='Andale Mono',color='white',fontsize=16)\n",
    "print(h_min)\n",
    "print(a_min)\n",
    "#plot the step graphs\n",
    "ax.step(x=a_min,y=a_cumulative,color='#d3d3d3',label=ateam,linewidth=5,where='post')\n",
    "ax.step(x=h_min,y=h_cumulative,color='#fd3607',label=ateam,linewidth=5,where='post')"
   ]
  },
  {
   "cell_type": "code",
   "execution_count": 47,
   "metadata": {},
   "outputs": [],
   "source": [
    "xG = a_cumulative + h_cumulative\n",
    "minute = a_min + h_min\n",
    "teams = away + home"
   ]
  },
  {
   "cell_type": "code",
   "execution_count": 48,
   "metadata": {},
   "outputs": [
    {
     "name": "stdout",
     "output_type": "stream",
     "text": [
      "   minute        xG        team\n",
      "0       0         0     Lorient\n",
      "1      14  0.115151     Lorient\n",
      "2      16  0.547028     Lorient\n",
      "3      21  0.599314     Lorient\n",
      "4      57  0.619451     Lorient\n",
      "5      71  0.666205     Lorient\n",
      "6       0         0  Strasbourg\n",
      "7       5  0.016727  Strasbourg\n",
      "8      18  0.066259  Strasbourg\n",
      "9      22  0.094961  Strasbourg\n",
      "10     27  0.460571  Strasbourg\n",
      "11     32  0.600365  Strasbourg\n",
      "12     35  0.636967  Strasbourg\n",
      "13     38  0.920052  Strasbourg\n",
      "14     38  1.818025  Strasbourg\n",
      "15     40  1.838469  Strasbourg\n",
      "16     46   1.88297  Strasbourg\n",
      "17     47  1.906068  Strasbourg\n",
      "18     59  2.328568  Strasbourg\n",
      "19     63  3.299523  Strasbourg\n",
      "20     76  3.323341  Strasbourg\n",
      "21     78  3.348484  Strasbourg\n"
     ]
    }
   ],
   "source": [
    "col_names = ['minute','xG','team']\n",
    "df = pd.DataFrame([minute,xG,teams],index=col_names)\n",
    "df = df.T\n",
    "print(df)"
   ]
  },
  {
   "cell_type": "code",
   "execution_count": 49,
   "metadata": {},
   "outputs": [
    {
     "name": "stdout",
     "output_type": "stream",
     "text": [
      "2022\n"
     ]
    }
   ],
   "source": [
    "print(str(int(data_home[0]['season'])+1))\n",
    "df.to_csv(r'../CSV/xG matchs/'+str(data_home[0]['season'])+'-'+str(int(data_home[0]['season'])+1)+'/xG_'+str(data_home[0]['h_team'])+'-'+str(data_home[0]['a_team'])+'.csv', index = False)"
   ]
  },
  {
   "cell_type": "code",
   "execution_count": 50,
   "metadata": {},
   "outputs": [
    {
     "name": "stdout",
     "output_type": "stream",
     "text": [
      "{'h': [{'id': '440228', 'minute': '5', 'result': 'MissedShots', 'X': '0.7440000152587891', 'Y': '0.49700000762939456', 'xG': '0.016727404668927193', 'player': 'Habib Diallo', 'h_a': 'h', 'player_id': '5769', 'situation': 'OpenPlay', 'season': '2021', 'shotType': 'RightFoot', 'match_id': '17940', 'h_team': 'Strasbourg', 'a_team': 'Lorient', 'h_goals': '4', 'a_goals': '0', 'date': '2021-10-31 14:00:00', 'player_assisted': 'Ibrahima Sissoko', 'lastAction': 'HeadPass'}, {'id': '440231', 'minute': '18', 'result': 'MissedShots', 'X': '0.874000015258789', 'Y': '0.32099998474121094', 'xG': '0.04953131452202797', 'player': 'Habib Diallo', 'h_a': 'h', 'player_id': '5769', 'situation': 'OpenPlay', 'season': '2021', 'shotType': 'LeftFoot', 'match_id': '17940', 'h_team': 'Strasbourg', 'a_team': 'Lorient', 'h_goals': '4', 'a_goals': '0', 'date': '2021-10-31 14:00:00', 'player_assisted': None, 'lastAction': 'None'}, {'id': '440233', 'minute': '22', 'result': 'MissedShots', 'X': '0.774000015258789', 'Y': '0.43599998474121093', 'xG': '0.02870265766978264', 'player': 'Ibrahima Sissoko', 'h_a': 'h', 'player_id': '6904', 'situation': 'OpenPlay', 'season': '2021', 'shotType': 'RightFoot', 'match_id': '17940', 'h_team': 'Strasbourg', 'a_team': 'Lorient', 'h_goals': '4', 'a_goals': '0', 'date': '2021-10-31 14:00:00', 'player_assisted': 'Adrien Thomasson', 'lastAction': 'Pass'}, {'id': '440234', 'minute': '27', 'result': 'Goal', 'X': '0.9580000305175781', 'Y': '0.5870000076293945', 'xG': '0.36560922861099243', 'player': 'Ludovic Ajorque', 'h_a': 'h', 'player_id': '6905', 'situation': 'OpenPlay', 'season': '2021', 'shotType': 'Head', 'match_id': '17940', 'h_team': 'Strasbourg', 'a_team': 'Lorient', 'h_goals': '4', 'a_goals': '0', 'date': '2021-10-31 14:00:00', 'player_assisted': None, 'lastAction': 'None'}, {'id': '440235', 'minute': '32', 'result': 'SavedShot', 'X': '0.9519999694824218', 'Y': '0.524000015258789', 'xG': '0.13979403674602509', 'player': 'Ibrahima Sissoko', 'h_a': 'h', 'player_id': '6904', 'situation': 'FromCorner', 'season': '2021', 'shotType': 'RightFoot', 'match_id': '17940', 'h_team': 'Strasbourg', 'a_team': 'Lorient', 'h_goals': '4', 'a_goals': '0', 'date': '2021-10-31 14:00:00', 'player_assisted': 'Sanjin Prcic', 'lastAction': 'Cross'}, {'id': '440236', 'minute': '35', 'result': 'MissedShots', 'X': '0.9130000305175782', 'Y': '0.46700000762939453', 'xG': '0.0366019606590271', 'player': 'Ludovic Ajorque', 'h_a': 'h', 'player_id': '6905', 'situation': 'FromCorner', 'season': '2021', 'shotType': 'Head', 'match_id': '17940', 'h_team': 'Strasbourg', 'a_team': 'Lorient', 'h_goals': '4', 'a_goals': '0', 'date': '2021-10-31 14:00:00', 'player_assisted': 'Frederic Guilbert', 'lastAction': 'Aerial'}, {'id': '440237', 'minute': '38', 'result': 'SavedShot', 'X': '0.950999984741211', 'Y': '0.4570000076293945', 'xG': '0.28308558464050293', 'player': 'Adrien Thomasson', 'h_a': 'h', 'player_id': '3549', 'situation': 'OpenPlay', 'season': '2021', 'shotType': 'Head', 'match_id': '17940', 'h_team': 'Strasbourg', 'a_team': 'Lorient', 'h_goals': '4', 'a_goals': '0', 'date': '2021-10-31 14:00:00', 'player_assisted': 'Habib Diallo', 'lastAction': 'BallTouch'}, {'id': '440238', 'minute': '38', 'result': 'Goal', 'X': '0.9840000152587891', 'Y': '0.5379999923706055', 'xG': '0.897972822189331', 'player': 'Habib Diallo', 'h_a': 'h', 'player_id': '5769', 'situation': 'OpenPlay', 'season': '2021', 'shotType': 'RightFoot', 'match_id': '17940', 'h_team': 'Strasbourg', 'a_team': 'Lorient', 'h_goals': '4', 'a_goals': '0', 'date': '2021-10-31 14:00:00', 'player_assisted': None, 'lastAction': 'Rebound'}, {'id': '440239', 'minute': '40', 'result': 'MissedShots', 'X': '0.9319999694824219', 'Y': '0.654000015258789', 'xG': '0.02044372260570526', 'player': 'Lucas Perrin', 'h_a': 'h', 'player_id': '7614', 'situation': 'SetPiece', 'season': '2021', 'shotType': 'Head', 'match_id': '17940', 'h_team': 'Strasbourg', 'a_team': 'Lorient', 'h_goals': '4', 'a_goals': '0', 'date': '2021-10-31 14:00:00', 'player_assisted': 'Frederic Guilbert', 'lastAction': 'Cross'}, {'id': '440240', 'minute': '46', 'result': 'Goal', 'X': '0.815', 'Y': '0.54', 'xG': '0.04450102150440216', 'player': 'Habib Diallo', 'h_a': 'h', 'player_id': '5769', 'situation': 'SetPiece', 'season': '2021', 'shotType': 'RightFoot', 'match_id': '17940', 'h_team': 'Strasbourg', 'a_team': 'Lorient', 'h_goals': '4', 'a_goals': '0', 'date': '2021-10-31 14:00:00', 'player_assisted': None, 'lastAction': 'None'}, {'id': '440241', 'minute': '47', 'result': 'BlockedShot', 'X': '0.7569999694824219', 'Y': '0.46099998474121096', 'xG': '0.023098532110452652', 'player': 'Sanjin Prcic', 'h_a': 'h', 'player_id': '1932', 'situation': 'OpenPlay', 'season': '2021', 'shotType': 'RightFoot', 'match_id': '17940', 'h_team': 'Strasbourg', 'a_team': 'Lorient', 'h_goals': '4', 'a_goals': '0', 'date': '2021-10-31 14:00:00', 'player_assisted': None, 'lastAction': 'None'}, {'id': '440243', 'minute': '59', 'result': 'MissedShots', 'X': '0.909000015258789', 'Y': '0.48400001525878905', 'xG': '0.4225001335144043', 'player': 'Adrien Thomasson', 'h_a': 'h', 'player_id': '3549', 'situation': 'FromCorner', 'season': '2021', 'shotType': 'LeftFoot', 'match_id': '17940', 'h_team': 'Strasbourg', 'a_team': 'Lorient', 'h_goals': '4', 'a_goals': '0', 'date': '2021-10-31 14:00:00', 'player_assisted': 'Ibrahima Sissoko', 'lastAction': 'HeadPass'}, {'id': '440244', 'minute': '63', 'result': 'Goal', 'X': '0.97', 'Y': '0.47200000762939454', 'xG': '0.970954179763794', 'player': 'Adrien Thomasson', 'h_a': 'h', 'player_id': '3549', 'situation': 'OpenPlay', 'season': '2021', 'shotType': 'RightFoot', 'match_id': '17940', 'h_team': 'Strasbourg', 'a_team': 'Lorient', 'h_goals': '4', 'a_goals': '0', 'date': '2021-10-31 14:00:00', 'player_assisted': 'Ibrahima Sissoko', 'lastAction': 'TakeOn'}, {'id': '440246', 'minute': '76', 'result': 'MissedShots', 'X': '0.7430000305175781', 'Y': '0.515', 'xG': '0.023818373680114746', 'player': 'Jean-Ricner Bellegarde', 'h_a': 'h', 'player_id': '7762', 'situation': 'OpenPlay', 'season': '2021', 'shotType': 'RightFoot', 'match_id': '17940', 'h_team': 'Strasbourg', 'a_team': 'Lorient', 'h_goals': '4', 'a_goals': '0', 'date': '2021-10-31 14:00:00', 'player_assisted': None, 'lastAction': 'BallRecovery'}, {'id': '440247', 'minute': '78', 'result': 'BlockedShot', 'X': '0.7680000305175781', 'Y': '0.6029999923706054', 'xG': '0.025142621248960495', 'player': 'Jean Eudes Aholou', 'h_a': 'h', 'player_id': '4811', 'situation': 'OpenPlay', 'season': '2021', 'shotType': 'RightFoot', 'match_id': '17940', 'h_team': 'Strasbourg', 'a_team': 'Lorient', 'h_goals': '4', 'a_goals': '0', 'date': '2021-10-31 14:00:00', 'player_assisted': 'Habib Diallo', 'lastAction': 'Pass'}], 'a': [{'id': '440229', 'minute': '14', 'result': 'MissedShots', 'X': '0.914000015258789', 'Y': '0.4829999923706055', 'xG': '0.1151513159275055', 'player': 'Vincent Le Goff', 'h_a': 'a', 'player_id': '3464', 'situation': 'OpenPlay', 'season': '2021', 'shotType': 'LeftFoot', 'match_id': '17940', 'h_team': 'Strasbourg', 'a_team': 'Lorient', 'h_goals': '4', 'a_goals': '0', 'date': '2021-10-31 14:00:00', 'player_assisted': 'Stéphane Diarra', 'lastAction': 'Cross'}, {'id': '440230', 'minute': '16', 'result': 'MissedShots', 'X': '0.9209999847412109', 'Y': '0.5740000152587891', 'xG': '0.4318770170211792', 'player': 'Terem Igobor Moffi', 'h_a': 'a', 'player_id': '8997', 'situation': 'OpenPlay', 'season': '2021', 'shotType': 'LeftFoot', 'match_id': '17940', 'h_team': 'Strasbourg', 'a_team': 'Lorient', 'h_goals': '4', 'a_goals': '0', 'date': '2021-10-31 14:00:00', 'player_assisted': 'Laurent Abergel', 'lastAction': 'Throughball'}, {'id': '440232', 'minute': '21', 'result': 'MissedShots', 'X': '0.9459999847412109', 'Y': '0.4159999847412109', 'xG': '0.052285704761743546', 'player': 'Julien Laporte', 'h_a': 'a', 'player_id': '8650', 'situation': 'FromCorner', 'season': '2021', 'shotType': 'LeftFoot', 'match_id': '17940', 'h_team': 'Strasbourg', 'a_team': 'Lorient', 'h_goals': '4', 'a_goals': '0', 'date': '2021-10-31 14:00:00', 'player_assisted': 'Moritz Jenz', 'lastAction': 'Aerial'}, {'id': '440242', 'minute': '57', 'result': 'MissedShots', 'X': '0.9319999694824219', 'Y': '0.3559999847412109', 'xG': '0.020137259736657143', 'player': 'Terem Igobor Moffi', 'h_a': 'a', 'player_id': '8997', 'situation': 'OpenPlay', 'season': '2021', 'shotType': 'Head', 'match_id': '17940', 'h_team': 'Strasbourg', 'a_team': 'Lorient', 'h_goals': '4', 'a_goals': '0', 'date': '2021-10-31 14:00:00', 'player_assisted': 'Igor Silva', 'lastAction': 'Aerial'}, {'id': '440245', 'minute': '71', 'result': 'BlockedShot', 'X': '0.9180000305175782', 'Y': '0.29600000381469727', 'xG': '0.04675339534878731', 'player': 'Igor Silva', 'h_a': 'a', 'player_id': '9661', 'situation': 'OpenPlay', 'season': '2021', 'shotType': 'RightFoot', 'match_id': '17940', 'h_team': 'Strasbourg', 'a_team': 'Lorient', 'h_goals': '4', 'a_goals': '0', 'date': '2021-10-31 14:00:00', 'player_assisted': 'Enzo Le Fée', 'lastAction': 'Pass'}]}\n"
     ]
    }
   ],
   "source": [
    "print(data)"
   ]
  },
  {
   "cell_type": "code",
   "execution_count": null,
   "metadata": {},
   "outputs": [],
   "source": []
  }
 ],
 "metadata": {
  "kernelspec": {
   "display_name": "Python 3",
   "language": "python",
   "name": "python3"
  },
  "language_info": {
   "codemirror_mode": {
    "name": "ipython",
    "version": 3
   },
   "file_extension": ".py",
   "mimetype": "text/x-python",
   "name": "python",
   "nbconvert_exporter": "python",
   "pygments_lexer": "ipython3",
   "version": "3.7.6"
  }
 },
 "nbformat": 4,
 "nbformat_minor": 4
}
