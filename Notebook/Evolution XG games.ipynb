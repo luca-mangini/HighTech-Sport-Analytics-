{
 "cells": [
  {
   "cell_type": "code",
   "execution_count": 1,
   "metadata": {},
   "outputs": [],
   "source": [
    "import requests\n",
    "from bs4 import BeautifulSoup\n",
    "import json\n",
    "import pandas as pd"
   ]
  },
  {
   "cell_type": "code",
   "execution_count": 2,
   "metadata": {},
   "outputs": [
    {
     "name": "stdout",
     "output_type": "stream",
     "text": [
      "Please enter the match id: 16878\n"
     ]
    }
   ],
   "source": [
    "#scrape a single game shots. We will allow users to enter a base url\n",
    "base_url = 'https://understat.com/match/'\n",
    "match = str(input('Please enter the match id: '))\n",
    "url = base_url+match"
   ]
  },
  {
   "cell_type": "code",
   "execution_count": 3,
   "metadata": {},
   "outputs": [],
   "source": [
    "#Use requests to get the webpage and BeautifulSoup to parse the page\n",
    "res = requests.get(url)\n",
    "soup = BeautifulSoup(res.content, 'lxml')\n",
    "scripts = soup.find_all('script')"
   ]
  },
  {
   "cell_type": "code",
   "execution_count": 4,
   "metadata": {},
   "outputs": [],
   "source": [
    "#get only the shotsData\n",
    "strings = scripts[1].string"
   ]
  },
  {
   "cell_type": "code",
   "execution_count": 5,
   "metadata": {},
   "outputs": [],
   "source": [
    "# strip unnecessary symbols and get only JSON data \n",
    "ind_start = strings.index(\"('\")+2 \n",
    "ind_end = strings.index(\"')\") \n",
    "json_data = strings[ind_start:ind_end] \n",
    "json_data = json_data.encode('utf8').decode('unicode_escape')\n",
    "\n",
    "#convert string to json format\n",
    "data = json.loads(json_data)"
   ]
  },
  {
   "cell_type": "code",
   "execution_count": 6,
   "metadata": {},
   "outputs": [],
   "source": [
    "minute = []\n",
    "xG = []\n",
    "result = []\n",
    "team = []\n",
    "data_away = data['a']\n",
    "data_home = data['h']\n",
    "\n",
    "for index in range(len(data_home)):\n",
    "    for key in data_home[index]:\n",
    "        if key == 'minute':\n",
    "            minute.append(data_home[index][key])\n",
    "        if key == 'h_team':\n",
    "            team.append(data_home[index][key])\n",
    "        if key == 'xG':\n",
    "            xG.append(data_home[index][key])\n",
    "        if key == 'result':\n",
    "            result.append(data_home[index][key])\n",
    "\n",
    "for index in range(len(data_away)):\n",
    "    for key in data_away[index]:\n",
    "        if key == 'minute':\n",
    "            minute.append(data_away[index][key])\n",
    "        if key == 'a_team':\n",
    "            team.append(data_away[index][key])\n",
    "        if key == 'xG':\n",
    "            xG.append(data_away[index][key])\n",
    "        if key == 'result':\n",
    "            result.append(data_away[index][key])"
   ]
  },
  {
   "cell_type": "code",
   "execution_count": 7,
   "metadata": {},
   "outputs": [],
   "source": [
    "col_names = ['minute','xG','result','team']\n",
    "df = pd.DataFrame([minute,xG,result,team],index=col_names)\n",
    "df = df.T"
   ]
  },
  {
   "cell_type": "code",
   "execution_count": 8,
   "metadata": {},
   "outputs": [
    {
     "name": "stdout",
     "output_type": "stream",
     "text": [
      "   minute        xG       result        team\n",
      "0      13  0.027047  BlockedShot  Fiorentina\n",
      "1      14  0.544084         Goal  Fiorentina\n",
      "2      16  0.065467  MissedShots  Fiorentina\n",
      "3      36  0.095272  MissedShots  Fiorentina\n",
      "4      45  0.046602         Goal  Fiorentina\n",
      "5      50  0.144532    SavedShot  Fiorentina\n",
      "6      59  0.462506         Goal  Fiorentina\n",
      "7      69  0.049075  MissedShots  Fiorentina\n",
      "8      84  0.074104         Goal  Fiorentina\n",
      "9      95  0.000000      OwnGoal  Fiorentina\n",
      "10      5  0.064166  MissedShots    AC Milan\n",
      "11     19  0.015659    SavedShot    AC Milan\n",
      "12     20  0.028040    SavedShot    AC Milan\n",
      "13     29  0.056746    SavedShot    AC Milan\n",
      "14     30  0.073944  BlockedShot    AC Milan\n",
      "15     33  0.094983    SavedShot    AC Milan\n",
      "16     34  0.068554  BlockedShot    AC Milan\n",
      "17     41  0.309207  MissedShots    AC Milan\n",
      "18     43  0.047550  BlockedShot    AC Milan\n",
      "19     44  0.047561  MissedShots    AC Milan\n",
      "20     49  0.081063  MissedShots    AC Milan\n",
      "21     51  0.014895  BlockedShot    AC Milan\n",
      "22     52  0.077922  MissedShots    AC Milan\n",
      "23     61  0.073599         Goal    AC Milan\n",
      "24     66  0.401173         Goal    AC Milan\n",
      "25     95  0.041339    SavedShot    AC Milan\n",
      "26     95  0.077790   ShotOnPost    AC Milan\n"
     ]
    }
   ],
   "source": [
    "df['xG'] = df['xG'].astype(float)\n",
    "print(df)"
   ]
  },
  {
   "cell_type": "code",
   "execution_count": 9,
   "metadata": {},
   "outputs": [],
   "source": [
    "#now that we have our dataframe set up, we are going to create some lists to plot the different xG values\n",
    "#4 lists - home and away xg and minutes\n",
    "#We start these with zero so our charts will start at 0\n",
    "a_xG = [0]\n",
    "h_xG= [0]\n",
    "home=[data_home[0]['h_team']]\n",
    "a_min = [0]\n",
    "h_min = [0]\n",
    "away=[data_home[0]['a_team']]\n",
    "\n",
    "\n",
    "#this finds our team names from the dataframe. This will only work as long as both teams took a shot\n",
    "hteam = df['team'].iloc[0]\n",
    "ateam = df['team'].iloc[-1]\n",
    "\n",
    "for x in range(len(df['xG'])):\n",
    "    if df['team'][x]==ateam:\n",
    "        a_xG.append(df['xG'][x])\n",
    "        a_min.append(df['minute'][x])\n",
    "        away.append(data_home[0]['a_team'])\n",
    "    if df['team'][x]==hteam:\n",
    "        h_xG.append(df['xG'][x])\n",
    "        h_min.append(df['minute'][x])\n",
    "        home.append(data_home[0]['h_team'])\n",
    "        \n",
    "#this is the function we use to make our xG values be cumulative rather than single shot values\n",
    "#it goes through the list and adds the numbers together\n",
    "def nums_cumulative_sum(nums_list):\n",
    "    return [sum(nums_list[:i+1]) for i in range(len(nums_list))]\n",
    "\n",
    "a_cumulative = nums_cumulative_sum(a_xG)\n",
    "h_cumulative = nums_cumulative_sum(h_xG)\n",
    "\n",
    "#this is used to find the total xG. It just creates a new variable from the last item in the cumulative list\n",
    "alast = round(a_cumulative[-1],2)\n",
    "hlast = round(h_cumulative[-1],2)"
   ]
  },
  {
   "cell_type": "code",
   "execution_count": 10,
   "metadata": {},
   "outputs": [
    {
     "name": "stdout",
     "output_type": "stream",
     "text": [
      "[0, '13', '14', '16', '36', '45', '50', '59', '69', '84', '95']\n",
      "[0, '5', '19', '20', '29', '30', '33', '34', '41', '43', '44', '49', '51', '52', '61', '66', '95', '95']\n"
     ]
    },
    {
     "data": {
      "text/plain": [
       "[<matplotlib.lines.Line2D at 0x226f2abf100>]"
      ]
     },
     "execution_count": 10,
     "metadata": {},
     "output_type": "execute_result"
    },
    {
     "name": "stderr",
     "output_type": "stream",
     "text": [
      "findfont: Font family ['Andale Mono'] not found. Falling back to DejaVu Sans.\n"
     ]
    },
    {
     "data": {
      "image/png": "[encoded data removed]",
      "text/plain": [
       "<Figure size 720x360 with 1 Axes>"
      ]
     },
     "metadata": {},
     "output_type": "display_data"
    }
   ],
   "source": [
    "import matplotlib as mpl\n",
    "import matplotlib.pyplot as plt\n",
    "\n",
    "fig, ax = plt.subplots(figsize = (10,5))\n",
    "fig.set_facecolor('#3d4849')\n",
    "ax.patch.set_facecolor('#3d4849')\n",
    "\n",
    "#set up our base layer\n",
    "mpl.rcParams['xtick.color'] = 'white'\n",
    "mpl.rcParams['ytick.color'] = 'white'\n",
    "\n",
    "ax.grid(ls='dotted',lw=.5,color='lightgrey',axis='y',zorder=1)\n",
    "spines = ['top','bottom','left','right']\n",
    "for x in spines:\n",
    "    if x in spines:\n",
    "        ax.spines[x].set_visible(False)\n",
    "        \n",
    "plt.xticks([0,15,30,45,60,75,90])\n",
    "plt.xlabel('Minute',fontname='Andale Mono',color='white',fontsize=16)\n",
    "plt.ylabel('xG',fontname='Andale Mono',color='white',fontsize=16)\n",
    "print(h_min)\n",
    "print(a_min)\n",
    "#plot the step graphs\n",
    "ax.step(x=a_min,y=a_cumulative,color='#d3d3d3',label=ateam,linewidth=5,where='post')\n",
    "ax.step(x=h_min,y=h_cumulative,color='#fd3607',label=ateam,linewidth=5,where='post')"
   ]
  },
  {
   "cell_type": "code",
   "execution_count": 11,
   "metadata": {},
   "outputs": [],
   "source": [
    "xG = a_cumulative + h_cumulative\n",
    "minute = a_min + h_min\n",
    "teams = away + home"
   ]
  },
  {
   "cell_type": "code",
   "execution_count": 12,
   "metadata": {},
   "outputs": [
    {
     "name": "stdout",
     "output_type": "stream",
     "text": [
      "   minute        xG        team\n",
      "0       0         0    AC Milan\n",
      "1       5  0.064166    AC Milan\n",
      "2      19  0.079825    AC Milan\n",
      "3      20  0.107865    AC Milan\n",
      "4      29  0.164611    AC Milan\n",
      "5      30  0.238555    AC Milan\n",
      "6      33  0.333538    AC Milan\n",
      "7      34  0.402092    AC Milan\n",
      "8      41    0.7113    AC Milan\n",
      "9      43   0.75885    AC Milan\n",
      "10     44  0.806411    AC Milan\n",
      "11     49  0.887474    AC Milan\n",
      "12     51  0.902369    AC Milan\n",
      "13     52  0.980291    AC Milan\n",
      "14     61   1.05389    AC Milan\n",
      "15     66  1.455064    AC Milan\n",
      "16     95  1.496402    AC Milan\n",
      "17     95  1.574192    AC Milan\n",
      "18      0         0  Fiorentina\n",
      "19     13  0.027047  Fiorentina\n",
      "20     14  0.571132  Fiorentina\n",
      "21     16  0.636599  Fiorentina\n",
      "22     36  0.731871  Fiorentina\n",
      "23     45  0.778473  Fiorentina\n",
      "24     50  0.923005  Fiorentina\n",
      "25     59   1.38551  Fiorentina\n",
      "26     69  1.434586  Fiorentina\n",
      "27     84   1.50869  Fiorentina\n",
      "28     95   1.50869  Fiorentina\n"
     ]
    }
   ],
   "source": [
    "col_names = ['minute','xG','team']\n",
    "df = pd.DataFrame([minute,xG,teams],index=col_names)\n",
    "df = df.T\n",
    "print(df)"
   ]
  },
  {
   "cell_type": "code",
   "execution_count": 13,
   "metadata": {},
   "outputs": [
    {
     "name": "stdout",
     "output_type": "stream",
     "text": [
      "2022\n"
     ]
    }
   ],
   "source": [
    "print(str(int(data_home[0]['season'])+1))\n",
    "df.to_csv(r'../CSV/xG matchs/'+str(data_home[0]['season'])+'-'+str(int(data_home[0]['season'])+1)+'/xG_'+str(data_home[0]['h_team'])+'-'+str(data_home[0]['a_team'])+'.csv', index = False)"
   ]
  },
  {
   "cell_type": "code",
   "execution_count": 14,
   "metadata": {},
   "outputs": [
    {
     "name": "stdout",
     "output_type": "stream",
     "text": [
      "{'h': [{'id': '442898', 'minute': '13', 'result': 'BlockedShot', 'X': '0.8819999694824219', 'Y': '0.4420000076293945', 'xG': '0.02704734168946743', 'player': 'Dusan Vlahovic', 'h_a': 'h', 'player_id': '7084', 'situation': 'FromCorner', 'season': '2021', 'shotType': 'Head', 'match_id': '16878', 'h_team': 'Fiorentina', 'a_team': 'AC Milan', 'h_goals': '4', 'a_goals': '3', 'date': '2021-11-20 19:45:00', 'player_assisted': 'Cristiano Biraghi', 'lastAction': 'Cross'}, {'id': '442899', 'minute': '14', 'result': 'Goal', 'X': '0.9309999847412109', 'Y': '0.49200000762939455', 'xG': '0.5440844893455505', 'player': 'Alfred Duncan', 'h_a': 'h', 'player_id': '1474', 'situation': 'FromCorner', 'season': '2021', 'shotType': 'LeftFoot', 'match_id': '16878', 'h_team': 'Fiorentina', 'a_team': 'AC Milan', 'h_goals': '4', 'a_goals': '3', 'date': '2021-11-20 19:45:00', 'player_assisted': None, 'lastAction': 'None'}, {'id': '442900', 'minute': '16', 'result': 'MissedShots', 'X': '0.8769999694824219', 'Y': '0.515', 'xG': '0.06546728312969208', 'player': 'Dusan Vlahovic', 'h_a': 'h', 'player_id': '7084', 'situation': 'OpenPlay', 'season': '2021', 'shotType': 'Head', 'match_id': '16878', 'h_team': 'Fiorentina', 'a_team': 'AC Milan', 'h_goals': '4', 'a_goals': '3', 'date': '2021-11-20 19:45:00', 'player_assisted': 'José Callejón', 'lastAction': 'Cross'}, {'id': '442907', 'minute': '36', 'result': 'MissedShots', 'X': '0.855999984741211', 'Y': '0.4779999923706055', 'xG': '0.09527182579040527', 'player': 'Giacomo Bonaventura', 'h_a': 'h', 'player_id': '1121', 'situation': 'OpenPlay', 'season': '2021', 'shotType': 'LeftFoot', 'match_id': '16878', 'h_team': 'Fiorentina', 'a_team': 'AC Milan', 'h_goals': '4', 'a_goals': '3', 'date': '2021-11-20 19:45:00', 'player_assisted': None, 'lastAction': 'None'}, {'id': '442911', 'minute': '45', 'result': 'Goal', 'X': '0.8009999847412109', 'Y': '0.629000015258789', 'xG': '0.046601686626672745', 'player': 'Riccardo Saponara', 'h_a': 'h', 'player_id': '1313', 'situation': 'OpenPlay', 'season': '2021', 'shotType': 'RightFoot', 'match_id': '16878', 'h_team': 'Fiorentina', 'a_team': 'AC Milan', 'h_goals': '4', 'a_goals': '3', 'date': '2021-11-20 19:45:00', 'player_assisted': 'Dusan Vlahovic', 'lastAction': 'Pass'}, {'id': '442913', 'minute': '50', 'result': 'SavedShot', 'X': '0.924000015258789', 'Y': '0.4209999847412109', 'xG': '0.14453209936618805', 'player': 'José Callejón', 'h_a': 'h', 'player_id': '1382', 'situation': 'OpenPlay', 'season': '2021', 'shotType': 'RightFoot', 'match_id': '16878', 'h_team': 'Fiorentina', 'a_team': 'AC Milan', 'h_goals': '4', 'a_goals': '3', 'date': '2021-11-20 19:45:00', 'player_assisted': 'Álvaro Odriozola', 'lastAction': 'Pass'}, {'id': '442916', 'minute': '59', 'result': 'Goal', 'X': '0.9390000152587891', 'Y': '0.6819999694824219', 'xG': '0.4625057578086853', 'player': 'Dusan Vlahovic', 'h_a': 'h', 'player_id': '7084', 'situation': 'OpenPlay', 'season': '2021', 'shotType': 'LeftFoot', 'match_id': '16878', 'h_team': 'Fiorentina', 'a_team': 'AC Milan', 'h_goals': '4', 'a_goals': '3', 'date': '2021-11-20 19:45:00', 'player_assisted': 'Alfred Duncan', 'lastAction': 'TakeOn'}, {'id': '442919', 'minute': '69', 'result': 'MissedShots', 'X': '0.850999984741211', 'Y': '0.7080000305175781', 'xG': '0.049075473099946976', 'player': 'Riccardo Saponara', 'h_a': 'h', 'player_id': '1313', 'situation': 'OpenPlay', 'season': '2021', 'shotType': 'LeftFoot', 'match_id': '16878', 'h_team': 'Fiorentina', 'a_team': 'AC Milan', 'h_goals': '4', 'a_goals': '3', 'date': '2021-11-20 19:45:00', 'player_assisted': 'Lucas Torreira', 'lastAction': 'Pass'}, {'id': '442920', 'minute': '84', 'result': 'Goal', 'X': '0.8240000152587891', 'Y': '0.4470000076293945', 'xG': '0.07410423457622528', 'player': 'Dusan Vlahovic', 'h_a': 'h', 'player_id': '7084', 'situation': 'OpenPlay', 'season': '2021', 'shotType': 'LeftFoot', 'match_id': '16878', 'h_team': 'Fiorentina', 'a_team': 'AC Milan', 'h_goals': '4', 'a_goals': '3', 'date': '2021-11-20 19:45:00', 'player_assisted': 'Nicolás González', 'lastAction': 'BallRecovery'}, {'id': '442923', 'minute': '95', 'result': 'OwnGoal', 'X': '0.008999999761581421', 'Y': '0.46299999237060546', 'xG': '0', 'player': 'Lorenzo Venuti', 'h_a': 'h', 'player_id': '6191', 'situation': 'OpenPlay', 'season': '2021', 'shotType': 'RightFoot', 'match_id': '16878', 'h_team': 'Fiorentina', 'a_team': 'AC Milan', 'h_goals': '4', 'a_goals': '3', 'date': '2021-11-20 19:45:00', 'player_assisted': None, 'lastAction': 'Clearance'}], 'a': [{'id': '442897', 'minute': '5', 'result': 'MissedShots', 'X': '0.9169999694824219', 'Y': '0.6530000305175782', 'xG': '0.06416580826044083', 'player': 'Rafael Leão', 'h_a': 'a', 'player_id': '7193', 'situation': 'OpenPlay', 'season': '2021', 'shotType': 'LeftFoot', 'match_id': '16878', 'h_team': 'Fiorentina', 'a_team': 'AC Milan', 'h_goals': '4', 'a_goals': '3', 'date': '2021-11-20 19:45:00', 'player_assisted': 'Sandro Tonali', 'lastAction': 'Chipped'}, {'id': '442901', 'minute': '19', 'result': 'SavedShot', 'X': '0.7290000152587891', 'Y': '0.5159999847412109', 'xG': '0.015659380704164505', 'player': 'Sandro Tonali', 'h_a': 'a', 'player_id': '7958', 'situation': 'OpenPlay', 'season': '2021', 'shotType': 'RightFoot', 'match_id': '16878', 'h_team': 'Fiorentina', 'a_team': 'AC Milan', 'h_goals': '4', 'a_goals': '3', 'date': '2021-11-20 19:45:00', 'player_assisted': None, 'lastAction': 'BallRecovery'}, {'id': '442902', 'minute': '20', 'result': 'SavedShot', 'X': '0.76', 'Y': '0.51', 'xG': '0.028039822354912758', 'player': 'Rafael Leão', 'h_a': 'a', 'player_id': '7193', 'situation': 'OpenPlay', 'season': '2021', 'shotType': 'RightFoot', 'match_id': '16878', 'h_team': 'Fiorentina', 'a_team': 'AC Milan', 'h_goals': '4', 'a_goals': '3', 'date': '2021-11-20 19:45:00', 'player_assisted': 'Theo Hernández', 'lastAction': 'TakeOn'}, {'id': '442903', 'minute': '29', 'result': 'SavedShot', 'X': '0.8090000152587891', 'Y': '0.639000015258789', 'xG': '0.05674639716744423', 'player': 'Rafael Leão', 'h_a': 'a', 'player_id': '7193', 'situation': 'OpenPlay', 'season': '2021', 'shotType': 'RightFoot', 'match_id': '16878', 'h_team': 'Fiorentina', 'a_team': 'AC Milan', 'h_goals': '4', 'a_goals': '3', 'date': '2021-11-20 19:45:00', 'player_assisted': 'Matteo Gabbia', 'lastAction': 'Pass'}, {'id': '442904', 'minute': '30', 'result': 'BlockedShot', 'X': '0.8590000152587891', 'Y': '0.40099998474121096', 'xG': '0.07394370436668396', 'player': 'Sandro Tonali', 'h_a': 'a', 'player_id': '7958', 'situation': 'OpenPlay', 'season': '2021', 'shotType': 'LeftFoot', 'match_id': '16878', 'h_team': 'Fiorentina', 'a_team': 'AC Milan', 'h_goals': '4', 'a_goals': '3', 'date': '2021-11-20 19:45:00', 'player_assisted': 'Franck Kessié', 'lastAction': 'Pass'}, {'id': '442905', 'minute': '33', 'result': 'SavedShot', 'X': '0.8780000305175781', 'Y': '0.43900001525878907', 'xG': '0.09498270601034164', 'player': 'Zlatan Ibrahimovic', 'h_a': 'a', 'player_id': '1741', 'situation': 'OpenPlay', 'season': '2021', 'shotType': 'LeftFoot', 'match_id': '16878', 'h_team': 'Fiorentina', 'a_team': 'AC Milan', 'h_goals': '4', 'a_goals': '3', 'date': '2021-11-20 19:45:00', 'player_assisted': 'Brahim Diaz', 'lastAction': 'Pass'}, {'id': '442906', 'minute': '34', 'result': 'BlockedShot', 'X': '0.909000015258789', 'Y': '0.66', 'xG': '0.06855427473783493', 'player': 'Rafael Leão', 'h_a': 'a', 'player_id': '7193', 'situation': 'OpenPlay', 'season': '2021', 'shotType': 'LeftFoot', 'match_id': '16878', 'h_team': 'Fiorentina', 'a_team': 'AC Milan', 'h_goals': '4', 'a_goals': '3', 'date': '2021-11-20 19:45:00', 'player_assisted': 'Simon Kjaer', 'lastAction': 'TakeOn'}, {'id': '442908', 'minute': '41', 'result': 'MissedShots', 'X': '0.9319999694824219', 'Y': '0.5429999923706055', 'xG': '0.3092074394226074', 'player': 'Zlatan Ibrahimovic', 'h_a': 'a', 'player_id': '1741', 'situation': 'OpenPlay', 'season': '2021', 'shotType': 'Head', 'match_id': '16878', 'h_team': 'Fiorentina', 'a_team': 'AC Milan', 'h_goals': '4', 'a_goals': '3', 'date': '2021-11-20 19:45:00', 'player_assisted': 'Simon Kjaer', 'lastAction': 'Cross'}, {'id': '442909', 'minute': '43', 'result': 'BlockedShot', 'X': '0.8490000152587891', 'Y': '0.6320000076293946', 'xG': '0.047550301998853683', 'player': 'Rafael Leão', 'h_a': 'a', 'player_id': '7193', 'situation': 'OpenPlay', 'season': '2021', 'shotType': 'LeftFoot', 'match_id': '16878', 'h_team': 'Fiorentina', 'a_team': 'AC Milan', 'h_goals': '4', 'a_goals': '3', 'date': '2021-11-20 19:45:00', 'player_assisted': 'Sandro Tonali', 'lastAction': 'BallTouch'}, {'id': '442910', 'minute': '44', 'result': 'MissedShots', 'X': '0.904000015258789', 'Y': '0.3940000152587891', 'xG': '0.047560833394527435', 'player': 'Zlatan Ibrahimovic', 'h_a': 'a', 'player_id': '1741', 'situation': 'FromCorner', 'season': '2021', 'shotType': 'RightFoot', 'match_id': '16878', 'h_team': 'Fiorentina', 'a_team': 'AC Milan', 'h_goals': '4', 'a_goals': '3', 'date': '2021-11-20 19:45:00', 'player_assisted': 'Sandro Tonali', 'lastAction': 'Cross'}, {'id': '442912', 'minute': '49', 'result': 'MissedShots', 'X': '0.915', 'Y': '0.5590000152587891', 'xG': '0.08106330037117004', 'player': 'Zlatan Ibrahimovic', 'h_a': 'a', 'player_id': '1741', 'situation': 'OpenPlay', 'season': '2021', 'shotType': 'LeftFoot', 'match_id': '16878', 'h_team': 'Fiorentina', 'a_team': 'AC Milan', 'h_goals': '4', 'a_goals': '3', 'date': '2021-11-20 19:45:00', 'player_assisted': 'Rafael Leão', 'lastAction': 'HeadPass'}, {'id': '442914', 'minute': '51', 'result': 'BlockedShot', 'X': '0.77', 'Y': '0.37900001525878907', 'xG': '0.014895247295498848', 'player': 'Franck Kessié', 'h_a': 'a', 'player_id': '1489', 'situation': 'OpenPlay', 'season': '2021', 'shotType': 'RightFoot', 'match_id': '16878', 'h_team': 'Fiorentina', 'a_team': 'AC Milan', 'h_goals': '4', 'a_goals': '3', 'date': '2021-11-20 19:45:00', 'player_assisted': None, 'lastAction': 'None'}, {'id': '442915', 'minute': '52', 'result': 'MissedShots', 'X': '0.9030000305175782', 'Y': '0.65', 'xG': '0.07792185246944427', 'player': 'Rafael Leão', 'h_a': 'a', 'player_id': '7193', 'situation': 'OpenPlay', 'season': '2021', 'shotType': 'RightFoot', 'match_id': '16878', 'h_team': 'Fiorentina', 'a_team': 'AC Milan', 'h_goals': '4', 'a_goals': '3', 'date': '2021-11-20 19:45:00', 'player_assisted': 'Franck Kessié', 'lastAction': 'Pass'}, {'id': '442917', 'minute': '61', 'result': 'Goal', 'X': '0.904000015258789', 'Y': '0.6270000076293946', 'xG': '0.0735991895198822', 'player': 'Zlatan Ibrahimovic', 'h_a': 'a', 'player_id': '1741', 'situation': 'OpenPlay', 'season': '2021', 'shotType': 'RightFoot', 'match_id': '16878', 'h_team': 'Fiorentina', 'a_team': 'AC Milan', 'h_goals': '4', 'a_goals': '3', 'date': '2021-11-20 19:45:00', 'player_assisted': None, 'lastAction': 'BallRecovery'}, {'id': '442918', 'minute': '66', 'result': 'Goal', 'X': '0.9180000305175782', 'Y': '0.5379999923706055', 'xG': '0.40117347240448', 'player': 'Zlatan Ibrahimovic', 'h_a': 'a', 'player_id': '1741', 'situation': 'OpenPlay', 'season': '2021', 'shotType': 'LeftFoot', 'match_id': '16878', 'h_team': 'Fiorentina', 'a_team': 'AC Milan', 'h_goals': '4', 'a_goals': '3', 'date': '2021-11-20 19:45:00', 'player_assisted': 'Theo Hernández', 'lastAction': 'Pass'}, {'id': '442921', 'minute': '95', 'result': 'SavedShot', 'X': '0.879000015258789', 'Y': '0.5609999847412109', 'xG': '0.04133865609765053', 'player': 'Simon Kjaer', 'h_a': 'a', 'player_id': '4699', 'situation': 'SetPiece', 'season': '2021', 'shotType': 'Head', 'match_id': '16878', 'h_team': 'Fiorentina', 'a_team': 'AC Milan', 'h_goals': '4', 'a_goals': '3', 'date': '2021-11-20 19:45:00', 'player_assisted': 'Ismael Bennacer', 'lastAction': 'Cross'}, {'id': '442922', 'minute': '95', 'result': 'ShotOnPost', 'X': '0.9230000305175782', 'Y': '0.4159999847412109', 'xG': '0.07778995484113693', 'player': 'Zlatan Ibrahimovic', 'h_a': 'a', 'player_id': '1741', 'situation': 'OpenPlay', 'season': '2021', 'shotType': 'Head', 'match_id': '16878', 'h_team': 'Fiorentina', 'a_team': 'AC Milan', 'h_goals': '4', 'a_goals': '3', 'date': '2021-11-20 19:45:00', 'player_assisted': 'Theo Hernández', 'lastAction': 'Cross'}]}\n"
     ]
    }
   ],
   "source": [
    "print(data)"
   ]
  },
  {
   "cell_type": "code",
   "execution_count": null,
   "metadata": {},
   "outputs": [],
   "source": []
  }
 ],
 "metadata": {
  "kernelspec": {
   "display_name": "Python 3 (ipykernel)",
   "language": "python",
   "name": "python3"
  },
  "language_info": {
   "codemirror_mode": {
    "name": "ipython",
    "version": 3
   },
   "file_extension": ".py",
   "mimetype": "text/x-python",
   "name": "python",
   "nbconvert_exporter": "python",
   "pygments_lexer": "ipython3",
   "version": "3.9.7"
  }
 },
 "nbformat": 4,
 "nbformat_minor": 4
}
